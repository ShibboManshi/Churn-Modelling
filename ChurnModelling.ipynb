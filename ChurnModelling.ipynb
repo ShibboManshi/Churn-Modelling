{
  "nbformat": 4,
  "nbformat_minor": 0,
  "metadata": {
    "colab": {
      "name": "ChurnModelling.ipynb",
      "provenance": [],
      "collapsed_sections": []
    },
    "kernelspec": {
      "name": "python3",
      "display_name": "Python 3"
    }
  },
  "cells": [
    {
      "cell_type": "code",
      "metadata": {
        "id": "p71xTR8WIVS_"
      },
      "source": [
        "import numpy as np\r\n",
        "import matplotlib.pyplot as plt\r\n",
        "%matplotlib inline\r\n",
        "import pandas as pd"
      ],
      "execution_count": 2,
      "outputs": []
    },
    {
      "cell_type": "code",
      "metadata": {
        "colab": {
          "base_uri": "https://localhost:8080/"
        },
        "id": "PxIvV-huJ-Y2",
        "outputId": "cfda26af-e90c-4025-9043-c810b4d48351"
      },
      "source": [
        "from google.colab import drive\r\n",
        "drive.mount('/content/drive')"
      ],
      "execution_count": 5,
      "outputs": [
        {
          "output_type": "stream",
          "text": [
            "Drive already mounted at /content/drive; to attempt to forcibly remount, call drive.mount(\"/content/drive\", force_remount=True).\n"
          ],
          "name": "stdout"
        }
      ]
    },
    {
      "cell_type": "code",
      "metadata": {
        "id": "ZCmvaLraKs2A"
      },
      "source": [
        "dataset = pd.read_csv('/content/drive/MyDrive/ML/ChurnModelling/Churn_Modelling.csv')\r\n",
        "X = dataset.iloc[:,3:13]\r\n",
        "y = dataset.iloc[:,13]"
      ],
      "execution_count": 9,
      "outputs": []
    },
    {
      "cell_type": "code",
      "metadata": {
        "id": "RYJ2zAWWLmlZ"
      },
      "source": [
        "geography=pd.get_dummies(X['Geography'],drop_first=True)\r\n",
        "gender=pd.get_dummies(X['Gender'],drop_first=True)"
      ],
      "execution_count": 12,
      "outputs": []
    },
    {
      "cell_type": "code",
      "metadata": {
        "id": "cP4w84KtMGst"
      },
      "source": [
        "X=pd.concat([X,geography,gender],axis=1)\r\n",
        "X=X.drop(['Geography','Gender'],axis=1)"
      ],
      "execution_count": 13,
      "outputs": []
    },
    {
      "cell_type": "code",
      "metadata": {
        "id": "OLlgvc3AM1Cm"
      },
      "source": [
        "from sklearn.model_selection import train_test_split\r\n",
        "X_train, X_test, y_train, y_test = train_test_split(X,y,test_size=0.2,random_state=0)"
      ],
      "execution_count": 14,
      "outputs": []
    },
    {
      "cell_type": "code",
      "metadata": {
        "id": "KDy1vyySNL7H"
      },
      "source": [
        "from sklearn.preprocessing import StandardScaler\r\n",
        "sc = StandardScaler()\r\n",
        "X_train = sc.fit_transform(X_train)\r\n",
        "X_test = sc.transform(X_test)"
      ],
      "execution_count": 15,
      "outputs": []
    },
    {
      "cell_type": "code",
      "metadata": {
        "id": "io1TNmSaOXPG"
      },
      "source": [
        "import keras\r\n",
        "from keras.models import Sequential\r\n",
        "from keras.layers import Dense\r\n",
        "from keras.layers import LeakyReLU,PReLU,ELU\r\n",
        "from keras.layers import Dropout\r\n"
      ],
      "execution_count": 27,
      "outputs": []
    },
    {
      "cell_type": "code",
      "metadata": {
        "colab": {
          "base_uri": "https://localhost:8080/"
        },
        "id": "6jmq37qAOuqr",
        "outputId": "dd4a803f-c0ac-45be-9a1d-6043fbed69ba"
      },
      "source": [
        "# Initialising the ANN\r\n",
        "classifier = Sequential()\r\n",
        "\r\n",
        "# Adding the input layer and the first hidden layer\r\n",
        "classifier.add(Dense(units = 6, kernel_initializer = 'he_uniform',activation='relu',input_dim = 11))\r\n",
        "\r\n",
        "# Adding the second hidden layer\r\n",
        "classifier.add(Dense(units = 6, kernel_initializer = 'he_uniform',activation='relu'))\r\n",
        "# Adding the output layer\r\n",
        "classifier.add(Dense(units = 1, kernel_initializer = 'glorot_uniform', activation = 'sigmoid'))\r\n",
        "\r\n",
        "# Compiling the ANN\r\n",
        "classifier.compile(optimizer = 'Adamax', loss = 'binary_crossentropy', metrics = ['accuracy'])\r\n",
        "\r\n",
        "# Fitting the ANN to the Training set\r\n",
        "model_history=classifier.fit(X_train, y_train,validation_split=0.33, batch_size = 10)\r\n"
      ],
      "execution_count": 36,
      "outputs": [
        {
          "output_type": "stream",
          "text": [
            "536/536 [==============================] - 1s 2ms/step - loss: 0.7104 - accuracy: 0.5547 - val_loss: 0.5845 - val_accuracy: 0.7872\n"
          ],
          "name": "stdout"
        }
      ]
    },
    {
      "cell_type": "code",
      "metadata": {
        "id": "Klk0O67fXp3X"
      },
      "source": [
        "plt.plot(model_history.history['loss'])\r\n",
        "plt.plot(model_history.history['val_loss'])\r\n",
        "plt.title('model loss')\r\n",
        "plt.ylabel('loss')\r\n",
        "plt.xlabel('epoch')\r\n",
        "plt.legend(['train', 'test'], loc='upper left')\r\n",
        "plt.show()"
      ],
      "execution_count": null,
      "outputs": []
    },
    {
      "cell_type": "code",
      "metadata": {
        "id": "3RHB7HLRZA0x"
      },
      "source": [
        "y_pred = classifier.predict(X_test)\r\n",
        "y_pred = (y_pred > 0.5)\r\n",
        "\r\n",
        "from sklearn.metrics import confusion_matrix\r\n",
        "cm = confusion_matrix(y_test, y_pred)\r\n",
        "\r\n",
        "# Calculate the Accuracy\r\n",
        "from sklearn.metrics import accuracy_score\r\n",
        "score=accuracy_score(y_pred,y_test)"
      ],
      "execution_count": 40,
      "outputs": []
    }
  ]
}